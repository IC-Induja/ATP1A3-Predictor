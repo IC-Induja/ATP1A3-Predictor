{
 "cells": [
  {
   "cell_type": "code",
   "execution_count": 1,
   "metadata": {},
   "outputs": [],
   "source": [
    "import re\n",
    "\n",
    "import pandas as pd"
   ]
  },
  {
   "cell_type": "markdown",
   "metadata": {},
   "source": [
    "## Inspect Data\n",
    "See what data is available from the ClinVar file."
   ]
  },
  {
   "cell_type": "code",
   "execution_count": 2,
   "metadata": {},
   "outputs": [],
   "source": [
    "clinvar = pd.read_table(\"clinvar_result.txt\", sep=\"\\t\")"
   ]
  },
  {
   "cell_type": "code",
   "execution_count": 3,
   "metadata": {},
   "outputs": [
    {
     "data": {
      "text/plain": [
       "['Name',\n",
       " 'Gene(s)',\n",
       " 'Condition(s)',\n",
       " 'Clinical significance (Last reviewed)',\n",
       " 'Review status',\n",
       " 'GRCh37Chromosome',\n",
       " 'GRCh37Location',\n",
       " 'GRCh38Chromosome',\n",
       " 'GRCh38Location',\n",
       " 'VariationID',\n",
       " 'AlleleID(s)',\n",
       " 'Unnamed: 11']"
      ]
     },
     "execution_count": 3,
     "metadata": {},
     "output_type": "execute_result"
    }
   ],
   "source": [
    "list(clinvar)"
   ]
  },
  {
   "cell_type": "code",
   "execution_count": 4,
   "metadata": {},
   "outputs": [
    {
     "data": {
      "text/plain": [
       "217"
      ]
     },
     "execution_count": 4,
     "metadata": {},
     "output_type": "execute_result"
    }
   ],
   "source": [
    "len(clinvar)"
   ]
  },
  {
   "cell_type": "code",
   "execution_count": 5,
   "metadata": {},
   "outputs": [
    {
     "data": {
      "text/html": [
       "<div>\n",
       "<style scoped>\n",
       "    .dataframe tbody tr th:only-of-type {\n",
       "        vertical-align: middle;\n",
       "    }\n",
       "\n",
       "    .dataframe tbody tr th {\n",
       "        vertical-align: top;\n",
       "    }\n",
       "\n",
       "    .dataframe thead th {\n",
       "        text-align: right;\n",
       "    }\n",
       "</style>\n",
       "<table border=\"1\" class=\"dataframe\">\n",
       "  <thead>\n",
       "    <tr style=\"text-align: right;\">\n",
       "      <th></th>\n",
       "      <th>Name</th>\n",
       "      <th>Gene(s)</th>\n",
       "      <th>Condition(s)</th>\n",
       "      <th>Clinical significance (Last reviewed)</th>\n",
       "      <th>Review status</th>\n",
       "      <th>GRCh37Chromosome</th>\n",
       "      <th>GRCh37Location</th>\n",
       "      <th>GRCh38Chromosome</th>\n",
       "      <th>GRCh38Location</th>\n",
       "      <th>VariationID</th>\n",
       "      <th>AlleleID(s)</th>\n",
       "      <th>Unnamed: 11</th>\n",
       "    </tr>\n",
       "  </thead>\n",
       "  <tbody>\n",
       "    <tr>\n",
       "      <th>0</th>\n",
       "      <td>NM_152296.4(ATP1A3):c.*315G&gt;A</td>\n",
       "      <td>ATP1A3</td>\n",
       "      <td>Dystonia 12|Alternating hemiplegia of childhood</td>\n",
       "      <td>Likely benign(Last reviewed: Jun 14, 2016)</td>\n",
       "      <td>criteria provided, single submitter</td>\n",
       "      <td>19</td>\n",
       "      <td>42470774</td>\n",
       "      <td>19</td>\n",
       "      <td>41966622</td>\n",
       "      <td>329395</td>\n",
       "      <td>333688</td>\n",
       "      <td>NaN</td>\n",
       "    </tr>\n",
       "    <tr>\n",
       "      <th>1</th>\n",
       "      <td>NM_152296.4(ATP1A3):c.*298C&gt;T</td>\n",
       "      <td>ATP1A3</td>\n",
       "      <td>Dystonia 12|Alternating hemiplegia of childhood</td>\n",
       "      <td>Likely benign(Last reviewed: Jun 14, 2016)</td>\n",
       "      <td>criteria provided, single submitter</td>\n",
       "      <td>19</td>\n",
       "      <td>42470791</td>\n",
       "      <td>19</td>\n",
       "      <td>41966639</td>\n",
       "      <td>329396</td>\n",
       "      <td>343686</td>\n",
       "      <td>NaN</td>\n",
       "    </tr>\n",
       "    <tr>\n",
       "      <th>2</th>\n",
       "      <td>NM_152296.4(ATP1A3):c.*280T&gt;A</td>\n",
       "      <td>ATP1A3</td>\n",
       "      <td>Dystonia 12|Alternating hemiplegia of childhood</td>\n",
       "      <td>Uncertain significance(Last reviewed: Jun 14, ...</td>\n",
       "      <td>criteria provided, single submitter</td>\n",
       "      <td>19</td>\n",
       "      <td>42470809</td>\n",
       "      <td>19</td>\n",
       "      <td>41966657</td>\n",
       "      <td>329397</td>\n",
       "      <td>333691</td>\n",
       "      <td>NaN</td>\n",
       "    </tr>\n",
       "    <tr>\n",
       "      <th>3</th>\n",
       "      <td>NM_152296.4(ATP1A3):c.*236T&gt;C</td>\n",
       "      <td>ATP1A3</td>\n",
       "      <td>Dystonia 12|Alternating hemiplegia of childhood</td>\n",
       "      <td>Likely benign(Last reviewed: Jun 14, 2016)</td>\n",
       "      <td>criteria provided, single submitter</td>\n",
       "      <td>19</td>\n",
       "      <td>42470853</td>\n",
       "      <td>19</td>\n",
       "      <td>41966701</td>\n",
       "      <td>329398</td>\n",
       "      <td>349037</td>\n",
       "      <td>NaN</td>\n",
       "    </tr>\n",
       "    <tr>\n",
       "      <th>4</th>\n",
       "      <td>NM_152296.4(ATP1A3):c.*196_*198dupCTC</td>\n",
       "      <td>ATP1A3</td>\n",
       "      <td>Dystonia 12</td>\n",
       "      <td>Pathogenic(Last reviewed: Jul 1, 2009)</td>\n",
       "      <td>no assertion criteria provided</td>\n",
       "      <td>19</td>\n",
       "      <td>42470891 - 42470893</td>\n",
       "      <td>19</td>\n",
       "      <td>41966739 - 41966741</td>\n",
       "      <td>12916</td>\n",
       "      <td>27955</td>\n",
       "      <td>NaN</td>\n",
       "    </tr>\n",
       "  </tbody>\n",
       "</table>\n",
       "</div>"
      ],
      "text/plain": [
       "                                    Name Gene(s)  \\\n",
       "0          NM_152296.4(ATP1A3):c.*315G>A  ATP1A3   \n",
       "1          NM_152296.4(ATP1A3):c.*298C>T  ATP1A3   \n",
       "2          NM_152296.4(ATP1A3):c.*280T>A  ATP1A3   \n",
       "3          NM_152296.4(ATP1A3):c.*236T>C  ATP1A3   \n",
       "4  NM_152296.4(ATP1A3):c.*196_*198dupCTC  ATP1A3   \n",
       "\n",
       "                                      Condition(s)  \\\n",
       "0  Dystonia 12|Alternating hemiplegia of childhood   \n",
       "1  Dystonia 12|Alternating hemiplegia of childhood   \n",
       "2  Dystonia 12|Alternating hemiplegia of childhood   \n",
       "3  Dystonia 12|Alternating hemiplegia of childhood   \n",
       "4                                      Dystonia 12   \n",
       "\n",
       "               Clinical significance (Last reviewed)  \\\n",
       "0         Likely benign(Last reviewed: Jun 14, 2016)   \n",
       "1         Likely benign(Last reviewed: Jun 14, 2016)   \n",
       "2  Uncertain significance(Last reviewed: Jun 14, ...   \n",
       "3         Likely benign(Last reviewed: Jun 14, 2016)   \n",
       "4             Pathogenic(Last reviewed: Jul 1, 2009)   \n",
       "\n",
       "                         Review status  GRCh37Chromosome       GRCh37Location  \\\n",
       "0  criteria provided, single submitter                19             42470774   \n",
       "1  criteria provided, single submitter                19             42470791   \n",
       "2  criteria provided, single submitter                19             42470809   \n",
       "3  criteria provided, single submitter                19             42470853   \n",
       "4       no assertion criteria provided                19  42470891 - 42470893   \n",
       "\n",
       "   GRCh38Chromosome       GRCh38Location  VariationID  AlleleID(s)  \\\n",
       "0                19             41966622       329395       333688   \n",
       "1                19             41966639       329396       343686   \n",
       "2                19             41966657       329397       333691   \n",
       "3                19             41966701       329398       349037   \n",
       "4                19  41966739 - 41966741        12916        27955   \n",
       "\n",
       "   Unnamed: 11  \n",
       "0          NaN  \n",
       "1          NaN  \n",
       "2          NaN  \n",
       "3          NaN  \n",
       "4          NaN  "
      ]
     },
     "execution_count": 5,
     "metadata": {},
     "output_type": "execute_result"
    }
   ],
   "source": [
    "clinvar.head()"
   ]
  },
  {
   "cell_type": "markdown",
   "metadata": {},
   "source": [
    "In this file, it looks like only the variant infortation and clinical significance are relevant. Given that the position of the variant on the protein is known, the chromosome information seems redundant. Also, the review status and variation and allele ids seem irrelevant, and I don't know what to do with the condition information at this time.\n",
    "\n",
    "__* Might be something to explore in the future.__\n",
    "\n",
    "Also, the pathogenicity variant is in the same row as the date reviewed, and needs to be seperated.\n",
    "From the variant name, I want only the position of the mutant, the ref, and the alt."
   ]
  },
  {
   "cell_type": "code",
   "execution_count": 6,
   "metadata": {},
   "outputs": [],
   "source": [
    "# Process Name\n",
    "remove_db_id = lambda x: x.split(':')[1]\n",
    "clinvar[\"variant\"] = clinvar[\"Name\"].apply(remove_db_id)\n",
    "\n",
    "# Process Variant\n",
    "is_protein_variant = lambda x: bool(x.count(\"p.\"))\n",
    "clinvar[\"is_in_protein\"] = clinvar[\"variant\"].apply(is_protein_variant)\n",
    "\n",
    "is_indel = lambda x: not x.count(\">\")\n",
    "clinvar[\"is_indel\"] = clinvar[\"variant\"].apply(is_indel)\n",
    "\n",
    "# Process Clinical Significance\n",
    "remove_review_date = lambda x: x.split('(')[0]\n",
    "clinvar[\"clinical_significance\"] = clinvar[\"Clinical significance (Last reviewed)\"].apply(remove_review_date)"
   ]
  },
  {
   "cell_type": "code",
   "execution_count": 7,
   "metadata": {},
   "outputs": [
    {
     "name": "stdout",
     "output_type": "stream",
     "text": [
      "Indel Count: 10\n",
      "Non-Coding Variant Count: 34\n",
      "Non-Coding or Indel: 41\n"
     ]
    }
   ],
   "source": [
    "print(\"Indel Count: %d\" % len(clinvar[clinvar[\"is_indel\"]]))\n",
    "print(\"Non-Coding Variant Count: %d\" % len(clinvar[~clinvar[\"is_in_protein\"]]))\n",
    "print(\"Non-Coding or Indel: %d\" % len(clinvar[clinvar[\"is_indel\"] | ~clinvar[\"is_in_protein\"]]))"
   ]
  },
  {
   "cell_type": "markdown",
   "metadata": {},
   "source": [
    "## Select Single Nuclotide Variants in the Protein Coding Region\n",
    "I am not sure how to represent insertions and deletions for the approach I am planning to take, where I represent each variant as a one-hot vector (the format used in this paper: https://doi.org/10.1093/bioinformatics/bty211, and to be honest the only format I am aware of as of now).\n",
    "\n",
    "\n",
    "For now, I will deal with this by filtering out the indels. Also, I will filter out the missense mutations as these also can't be exactly represented as a one-hot vector.\n",
    "\n",
    "Also, I am hoping to analyze mutations at the amino acid level, because there aren't very many mutations relative to the number length of the nucleotide sequence for this gene, and I'd like to narrow the scope of the problem a little bit. So, I am also filtering out non-coding variants.\n",
    "\n",
    "This leaves us with 175 / 217 variants.\n",
    "\n",
    "`TODO:` __I should definitely search the literature for better/other formats__\n",
    "\n",
    "`TODO:` __Find some more data__ \n",
    ">It would be really interesting to see if I could build a nucleotide level predictor, but also more data would really help make even the an amino acid model more robust (because right now we _really_ don't have enough data points to do anything serious, and this analysis is more for fun than anything else."
   ]
  },
  {
   "cell_type": "code",
   "execution_count": 8,
   "metadata": {},
   "outputs": [],
   "source": [
    "# select single nucleotide variants in the protein coding region\n",
    "relevant_cols = [\"variant\", \"clinical_significance\"]\n",
    "protein_snvs = clinvar[relevant_cols][~clinvar[\"is_indel\"] & clinvar[\"is_in_protein\"]]"
   ]
  },
  {
   "cell_type": "code",
   "execution_count": 9,
   "metadata": {},
   "outputs": [],
   "source": [
    "# Process Protein Variant\n",
    "get_protein_variant = lambda x: x.split(\"(p.\")[1].split(\")\")[0] if is_protein_variant(x) else None\n",
    "protein_snvs[\"protein_variant\"] = protein_snvs[\"variant\"].apply(get_protein_variant)\n",
    "\n",
    "get_pos = lambda x: re.findall(\"\\d+\", x)[0]\n",
    "protein_snvs[\"pos\"] = protein_snvs[\"protein_variant\"].apply(get_pos)\n",
    "\n",
    "is_synonymous = lambda x: re.split(\"\\d+\", x)[1] == '='\n",
    "protein_snvs[\"is_synonymous\"] = protein_snvs[\"protein_variant\"].apply(is_synonymous)\n",
    "\n",
    "get_ref = lambda x: re.split(\"\\d+\", x)[0]\n",
    "protein_snvs[\"ref\"] = protein_snvs[\"protein_variant\"].apply(get_ref)\n",
    "\n",
    "get_alt = lambda x: re.split(\"\\d+\", x)[0] if re.split(\"\\d+\", x)[1] == '=' else re.split(\"\\d+\", x)[1]\n",
    "protein_snvs[\"alt\"] = protein_snvs[\"protein_variant\"].apply(get_alt)\n",
    "\n",
    "protein_snvs[\"is_missense\"] = protein_snvs[\"alt\"] == \"Ter\""
   ]
  },
  {
   "cell_type": "code",
   "execution_count": 10,
   "metadata": {},
   "outputs": [
    {
     "data": {
      "text/html": [
       "<div>\n",
       "<style scoped>\n",
       "    .dataframe tbody tr th:only-of-type {\n",
       "        vertical-align: middle;\n",
       "    }\n",
       "\n",
       "    .dataframe tbody tr th {\n",
       "        vertical-align: top;\n",
       "    }\n",
       "\n",
       "    .dataframe thead th {\n",
       "        text-align: right;\n",
       "    }\n",
       "</style>\n",
       "<table border=\"1\" class=\"dataframe\">\n",
       "  <thead>\n",
       "    <tr style=\"text-align: right;\">\n",
       "      <th></th>\n",
       "      <th>variant</th>\n",
       "      <th>clinical_significance</th>\n",
       "      <th>protein_variant</th>\n",
       "      <th>pos</th>\n",
       "      <th>is_synonymous</th>\n",
       "      <th>ref</th>\n",
       "      <th>alt</th>\n",
       "      <th>is_missense</th>\n",
       "    </tr>\n",
       "  </thead>\n",
       "  <tbody>\n",
       "    <tr>\n",
       "      <th>8</th>\n",
       "      <td>c.2976C&gt;T (p.Asp992=)</td>\n",
       "      <td>Benign</td>\n",
       "      <td>Asp992=</td>\n",
       "      <td>992</td>\n",
       "      <td>True</td>\n",
       "      <td>Asp</td>\n",
       "      <td>Asp</td>\n",
       "      <td>False</td>\n",
       "    </tr>\n",
       "    <tr>\n",
       "      <th>9</th>\n",
       "      <td>c.2974G&gt;C (p.Asp992His)</td>\n",
       "      <td>Uncertain significance</td>\n",
       "      <td>Asp992His</td>\n",
       "      <td>992</td>\n",
       "      <td>False</td>\n",
       "      <td>Asp</td>\n",
       "      <td>His</td>\n",
       "      <td>False</td>\n",
       "    </tr>\n",
       "    <tr>\n",
       "      <th>10</th>\n",
       "      <td>c.2974G&gt;T (p.Asp992Tyr)</td>\n",
       "      <td>Pathogenic</td>\n",
       "      <td>Asp992Tyr</td>\n",
       "      <td>992</td>\n",
       "      <td>False</td>\n",
       "      <td>Asp</td>\n",
       "      <td>Tyr</td>\n",
       "      <td>False</td>\n",
       "    </tr>\n",
       "    <tr>\n",
       "      <th>11</th>\n",
       "      <td>c.2968G&gt;A (p.Val990Ile)</td>\n",
       "      <td>Uncertain significance</td>\n",
       "      <td>Val990Ile</td>\n",
       "      <td>990</td>\n",
       "      <td>False</td>\n",
       "      <td>Val</td>\n",
       "      <td>Ile</td>\n",
       "      <td>False</td>\n",
       "    </tr>\n",
       "    <tr>\n",
       "      <th>12</th>\n",
       "      <td>c.2896G&gt;A (p.Val966Met)</td>\n",
       "      <td>Uncertain significance</td>\n",
       "      <td>Val966Met</td>\n",
       "      <td>966</td>\n",
       "      <td>False</td>\n",
       "      <td>Val</td>\n",
       "      <td>Met</td>\n",
       "      <td>False</td>\n",
       "    </tr>\n",
       "  </tbody>\n",
       "</table>\n",
       "</div>"
      ],
      "text/plain": [
       "                    variant   clinical_significance protein_variant  pos  \\\n",
       "8     c.2976C>T (p.Asp992=)                  Benign         Asp992=  992   \n",
       "9   c.2974G>C (p.Asp992His)  Uncertain significance       Asp992His  992   \n",
       "10  c.2974G>T (p.Asp992Tyr)              Pathogenic       Asp992Tyr  992   \n",
       "11  c.2968G>A (p.Val990Ile)  Uncertain significance       Val990Ile  990   \n",
       "12  c.2896G>A (p.Val966Met)  Uncertain significance       Val966Met  966   \n",
       "\n",
       "    is_synonymous  ref  alt  is_missense  \n",
       "8            True  Asp  Asp        False  \n",
       "9           False  Asp  His        False  \n",
       "10          False  Asp  Tyr        False  \n",
       "11          False  Val  Ile        False  \n",
       "12          False  Val  Met        False  "
      ]
     },
     "execution_count": 10,
     "metadata": {},
     "output_type": "execute_result"
    }
   ],
   "source": [
    "protein_snvs.head()"
   ]
  },
  {
   "cell_type": "markdown",
   "metadata": {},
   "source": [
    "## Categorize Variants as Pathogenic or Benign\n"
   ]
  },
  {
   "cell_type": "code",
   "execution_count": 11,
   "metadata": {},
   "outputs": [
    {
     "data": {
      "text/plain": [
       "Uncertain significance                          60\n",
       "Pathogenic                                      52\n",
       "Likely benign                                   21\n",
       "Likely pathogenic                               18\n",
       "Benign/Likely benign                            11\n",
       "Conflicting interpretations of pathogenicity     8\n",
       "Benign                                           4\n",
       "Pathogenic/Likely pathogenic                     2\n",
       "Name: clinical_significance, dtype: int64"
      ]
     },
     "execution_count": 11,
     "metadata": {},
     "output_type": "execute_result"
    }
   ],
   "source": [
    "protein_snvs[\"clinical_significance\"].value_counts()"
   ]
  },
  {
   "cell_type": "markdown",
   "metadata": {},
   "source": [
    "Variants seem to fall along a spectrum from benign to pathogenic, with some being uncertain.\n",
    "\n",
    "__* Not sure how these are classified. Might be interesting for me to read more about this.__\n",
    "\n",
    "For now, it seems reasonable to filter out variants with 'Uncertain significance' or 'Conflicting interpretations of pathogenicity', and put pathogenic/likely pathogenic variants in one group and benign/likely benign variants in another.\n",
    "\n",
    "This leaves us with 108 / 176 protein coding SNVs."
   ]
  },
  {
   "cell_type": "code",
   "execution_count": 12,
   "metadata": {},
   "outputs": [],
   "source": [
    "is_uncertain = lambda x: x in {\"Conflicting interpretations of pathogenicity\", \"Uncertain significance\"}\n",
    "protein_snvs[\"is_uncertain\"] = protein_snvs[\"clinical_significance\"].apply(is_uncertain)\n",
    "\n",
    "is_pathogenic = lambda x: x in { \"Pathogenic\", \"Likely pathogenic\", \"Pathogenic/Likely pathogenic\"}\n",
    "protein_snvs[\"is_pathogenic\"] = protein_snvs[\"clinical_significance\"].apply(is_pathogenic)"
   ]
  },
  {
   "cell_type": "code",
   "execution_count": 19,
   "metadata": {},
   "outputs": [],
   "source": [
    "relevant_snv_cols = ['variant', 'pos', 'ref', 'alt', 'is_pathogenic', 'is_synonymous']\n",
    "filtered_snvs = protein_snvs[~protein_snvs[\"is_uncertain\"] & ~protein_snvs[\"is_missense\"]][relevant_snv_cols]"
   ]
  },
  {
   "cell_type": "code",
   "execution_count": 20,
   "metadata": {},
   "outputs": [
    {
     "data": {
      "text/html": [
       "<div>\n",
       "<style scoped>\n",
       "    .dataframe tbody tr th:only-of-type {\n",
       "        vertical-align: middle;\n",
       "    }\n",
       "\n",
       "    .dataframe tbody tr th {\n",
       "        vertical-align: top;\n",
       "    }\n",
       "\n",
       "    .dataframe thead th {\n",
       "        text-align: right;\n",
       "    }\n",
       "</style>\n",
       "<table border=\"1\" class=\"dataframe\">\n",
       "  <thead>\n",
       "    <tr style=\"text-align: right;\">\n",
       "      <th></th>\n",
       "      <th>variant</th>\n",
       "      <th>pos</th>\n",
       "      <th>ref</th>\n",
       "      <th>alt</th>\n",
       "      <th>is_pathogenic</th>\n",
       "      <th>is_synonymous</th>\n",
       "    </tr>\n",
       "  </thead>\n",
       "  <tbody>\n",
       "    <tr>\n",
       "      <th>8</th>\n",
       "      <td>c.2976C&gt;T (p.Asp992=)</td>\n",
       "      <td>992</td>\n",
       "      <td>Asp</td>\n",
       "      <td>Asp</td>\n",
       "      <td>False</td>\n",
       "      <td>True</td>\n",
       "    </tr>\n",
       "    <tr>\n",
       "      <th>10</th>\n",
       "      <td>c.2974G&gt;T (p.Asp992Tyr)</td>\n",
       "      <td>992</td>\n",
       "      <td>Asp</td>\n",
       "      <td>Tyr</td>\n",
       "      <td>True</td>\n",
       "      <td>False</td>\n",
       "    </tr>\n",
       "    <tr>\n",
       "      <th>13</th>\n",
       "      <td>c.2886C&gt;T (p.Pro962=)</td>\n",
       "      <td>962</td>\n",
       "      <td>Pro</td>\n",
       "      <td>Pro</td>\n",
       "      <td>False</td>\n",
       "      <td>True</td>\n",
       "    </tr>\n",
       "    <tr>\n",
       "      <th>15</th>\n",
       "      <td>c.2864C&gt;A (p.Ala955Asp)</td>\n",
       "      <td>955</td>\n",
       "      <td>Ala</td>\n",
       "      <td>Asp</td>\n",
       "      <td>True</td>\n",
       "      <td>False</td>\n",
       "    </tr>\n",
       "    <tr>\n",
       "      <th>16</th>\n",
       "      <td>c.2859C&gt;T (p.Ala953=)</td>\n",
       "      <td>953</td>\n",
       "      <td>Ala</td>\n",
       "      <td>Ala</td>\n",
       "      <td>False</td>\n",
       "      <td>True</td>\n",
       "    </tr>\n",
       "  </tbody>\n",
       "</table>\n",
       "</div>"
      ],
      "text/plain": [
       "                    variant  pos  ref  alt  is_pathogenic  is_synonymous\n",
       "8     c.2976C>T (p.Asp992=)  992  Asp  Asp          False           True\n",
       "10  c.2974G>T (p.Asp992Tyr)  992  Asp  Tyr           True          False\n",
       "13    c.2886C>T (p.Pro962=)  962  Pro  Pro          False           True\n",
       "15  c.2864C>A (p.Ala955Asp)  955  Ala  Asp           True          False\n",
       "16    c.2859C>T (p.Ala953=)  953  Ala  Ala          False           True"
      ]
     },
     "execution_count": 20,
     "metadata": {},
     "output_type": "execute_result"
    }
   ],
   "source": [
    "filtered_snvs.head()"
   ]
  },
  {
   "cell_type": "code",
   "execution_count": 21,
   "metadata": {},
   "outputs": [
    {
     "data": {
      "text/plain": [
       "True     71\n",
       "False    36\n",
       "Name: is_pathogenic, dtype: int64"
      ]
     },
     "execution_count": 21,
     "metadata": {},
     "output_type": "execute_result"
    }
   ],
   "source": [
    "filtered_snvs[\"is_pathogenic\"].value_counts()"
   ]
  },
  {
   "cell_type": "markdown",
   "metadata": {},
   "source": [
    "#### Note:\n",
    "There are twice as many pathogenic as non-pathogenic variants, something that should be taken into account when developing/testing our classifier."
   ]
  },
  {
   "cell_type": "markdown",
   "metadata": {},
   "source": [
    "## Exploratory Data Analysis"
   ]
  },
  {
   "cell_type": "code",
   "execution_count": 31,
   "metadata": {},
   "outputs": [
    {
     "data": {
      "text/html": [
       "<div>\n",
       "<style scoped>\n",
       "    .dataframe tbody tr th:only-of-type {\n",
       "        vertical-align: middle;\n",
       "    }\n",
       "\n",
       "    .dataframe tbody tr th {\n",
       "        vertical-align: top;\n",
       "    }\n",
       "\n",
       "    .dataframe thead th {\n",
       "        text-align: right;\n",
       "    }\n",
       "</style>\n",
       "<table border=\"1\" class=\"dataframe\">\n",
       "  <thead>\n",
       "    <tr style=\"text-align: right;\">\n",
       "      <th></th>\n",
       "      <th></th>\n",
       "      <th>variant</th>\n",
       "      <th>pos</th>\n",
       "      <th>ref</th>\n",
       "      <th>alt</th>\n",
       "    </tr>\n",
       "    <tr>\n",
       "      <th>is_pathogenic</th>\n",
       "      <th>is_synonymous</th>\n",
       "      <th></th>\n",
       "      <th></th>\n",
       "      <th></th>\n",
       "      <th></th>\n",
       "    </tr>\n",
       "  </thead>\n",
       "  <tbody>\n",
       "    <tr>\n",
       "      <th rowspan=\"2\" valign=\"top\">False</th>\n",
       "      <th>False</th>\n",
       "      <td>1</td>\n",
       "      <td>1</td>\n",
       "      <td>1</td>\n",
       "      <td>1</td>\n",
       "    </tr>\n",
       "    <tr>\n",
       "      <th>True</th>\n",
       "      <td>35</td>\n",
       "      <td>35</td>\n",
       "      <td>35</td>\n",
       "      <td>35</td>\n",
       "    </tr>\n",
       "    <tr>\n",
       "      <th>True</th>\n",
       "      <th>False</th>\n",
       "      <td>71</td>\n",
       "      <td>71</td>\n",
       "      <td>71</td>\n",
       "      <td>71</td>\n",
       "    </tr>\n",
       "  </tbody>\n",
       "</table>\n",
       "</div>"
      ],
      "text/plain": [
       "                             variant  pos  ref  alt\n",
       "is_pathogenic is_synonymous                        \n",
       "False         False                1    1    1    1\n",
       "              True                35   35   35   35\n",
       "True          False               71   71   71   71"
      ]
     },
     "execution_count": 31,
     "metadata": {},
     "output_type": "execute_result"
    }
   ],
   "source": [
    "filtered_snvs.groupby([\"is_pathogenic\", \"is_synonymous\"]).count()"
   ]
  },
  {
   "cell_type": "markdown",
   "metadata": {},
   "source": [
    "According to this dataset, if a mutation in ATP1A3 is synonymous, it is not pathogenic.\n",
    "\n",
    "If it is nonsynonymous, it is pathogenic the vast majority of the time.\n",
    "\n",
    "Perhaps we don't need machine learning to build a classifier of this..."
   ]
  }
 ],
 "metadata": {
  "kernelspec": {
   "display_name": "Python 3",
   "language": "python",
   "name": "python3"
  },
  "language_info": {
   "codemirror_mode": {
    "name": "ipython",
    "version": 3
   },
   "file_extension": ".py",
   "mimetype": "text/x-python",
   "name": "python",
   "nbconvert_exporter": "python",
   "pygments_lexer": "ipython3",
   "version": "3.6.5"
  }
 },
 "nbformat": 4,
 "nbformat_minor": 2
}
